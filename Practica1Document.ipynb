{
 "cells": [
  {
   "cell_type": "markdown",
   "id": "9230436a",
   "metadata": {},
   "source": [
    "# Práctica 1"
   ]
  },
  {
   "cell_type": "markdown",
   "id": "feff40f2",
   "metadata": {},
   "source": [
    "## 1. Contexto. Explicar en qué contexto se ha recolectado la información. Explicar por qué el sitio web elegido proporciona dicha información.\n",
    "Este proyecto extrae información sobre valores de cotización y capitalización de más de 6000 criptomonedas de la página web [coinmarketcap.com](https://coinmarketcap.com/). Este sitio web es la más conocida fuente de seguimiento de la evolución de los valores de cotización de las criptomonedas (incluye más de 6000), es bastante fácil de usar y ademas ofrece información histórica sobre dichos valores."
   ]
  },
  {
   "cell_type": "markdown",
   "id": "d5e3ccd1",
   "metadata": {},
   "source": [
    "## 2. Título. Definir un título que sea descriptivo para el dataset.\n",
    "Criptomonedas como almacén de valor. Visión histórica a valores de cotización de criptomonedas"
   ]
  },
  {
   "cell_type": "markdown",
   "id": "f4aff8ce",
   "metadata": {},
   "source": [
    "## 3. Descripción del dataset. Desarrollar una descripción breve del conjunto de datos que se ha extraído. Es necesario que esta descripción tenga sentido con el título elegido.\n",
    "El dataset que aquí se presenta contiene información diaria sobre valores de cotización, volumen de criptomonedas comerciado la sesión y valor total de capitalización de 6682* criptomonedas. Con respecto a los valores de cotización, contiene el precio en el momento de apertura del mercado, el precio máximo alcanzado durante la sesión, el precio mínimo y el precio en el momento de cierre."
   ]
  },
  {
   "cell_type": "markdown",
   "id": "a5e78ccf",
   "metadata": {},
   "source": [
    "## 4. Representación gráfica. Dibujar un esquema o diagrama que identifique el dataset visualmente y el proyecto elegido."
   ]
  },
  {
   "cell_type": "markdown",
   "id": "6e4025b5",
   "metadata": {},
   "source": [
    "## 5. Contenido. Explicar los campos que incluye el dataset, el periodo de tiempo de los datos y cómo se ha recogido.\n",
    "En la siguiente tabla podemos ver los campos que contiene el dataset:\n",
    "\n",
    "| Nombre del campo | Tipo de dato | Descripción| \n",
    "| :- | :- | :- |\n",
    "| symbol| CHAR| Código identificador de criptomoneda |\n",
    "| date | CHAR| Fecha |\n",
    "| open| NUMERIC\\? CHAR?| Valor de cotización en el momento de apertura del mercado | \n",
    "| high| NUMERIC? CHAR?| Valor máximo de cotización alcanzado durante la sesión |\n",
    "| low| NUMERIC? CHAR?| Valor mínimo de cotización alcanzado durante la sesión |\n",
    "| close | NUMERIC? CHAR? | Valor de cotización en el momento de cierre del mercado |\n",
    "| volumen | NUMERIC? CHAR? | Volumen de criptomonedas comercializadas en la sesión |\n",
    "| marketcap | NUMERIC? CHAR? | Valor total de capitalización de la criptomoneda |\n",
    "\n",
    "* **Período de tiempo que recogen los datos:** 22 de octubre de 2020 a *24 de octubre de 2021*.\n",
    "\n",
    "* **Método de recolección de los datos:** Programa de WebScrapping sobre el sitio web [coinmarketcap.com](https://coinmarketcap.com/)"
   ]
  },
  {
   "cell_type": "markdown",
   "id": "d22cb8f1",
   "metadata": {},
   "source": [
    "## 6. Agradecimientos. Presentar al propietario del conjunto de datos. Es necesario incluir citas de análisis anteriores o, en caso de no haberlas, justificar esta búsqueda con análisis similares. Justificar qué pasos se han seguido para actuar de acuerdo a los principios éticos y legales en el contexto del proyecto."
   ]
  },
  {
   "cell_type": "markdown",
   "id": "651ceb8f",
   "metadata": {},
   "source": [
    "## 7. Inspiración. Explicar por qué es interesante este conjunto de datos y qué preguntas se pretenden responder. Es necesario comparar con los análisis anteriores presentados en el apartado 6.\n",
    "\n",
    "El Bitcoin se desarrolló como un instrumento de pagos electrónicos entre particulares que no necesitase de un tercer agente de confianza, en su caso una institución financiera, que procesase y verificase dichos pagos ([Nakamoto, 2008](https://bitcoin.org/bitcoin.pdf)). Sin embargo, tal y como expuso el Nobel de Economía [Paul Krugman en 2013](https://krugman.blogs.nytimes.com/2013/12/28/bitcoin-is-evil/?ref=hackernoon.com), su éxito como moneda dependía tanto de ser aceptado como medio de cambio, como en ser considerado como un razonable “almacén de valor” ([store of value]((https://www.ledger.com/academy/what-is-a-store-of-value))).\n",
    "\n",
    "Con respecto a ser aceptado como medio de cambio, en octubre/noviembre de 2021 la única jurisdicción que había adoptado el bitcoin como moneda de curso legal era El Salvador, que lo había hecho el 7 de septiembre de 2021 a pesar de las dudas y las críticas recibidas ([Gorjón, 2021](https://www.bde.es/f/webbde/SES/Secciones/Publicaciones/InformesBoletinesRevistas/ArticulosAnaliticos/21/T4/Fich/be2104-art35.pdf)).\n",
    "\n",
    "Por otro lado, el crecimiento del valor de cotización tanto del Bitcoin como de otras criptomonedas como Ethereum, XRP o Litecoin ha hecho que aparezcan muchos defensores de las criptomonedas como “almacenes de valor”. Sin embargo, su volatilidad ha sido utilizada por numerosos especialistas e instituciones como argumento en contra de la estabilidad de sus valores.\n",
    "\n",
    "Con este proyecto se busca investigar si hay criptomonedas que puedas ser consideradas como “almacenes de valor”. La información para poder realizarla la obtendremos del sitio web coinmarketcap.com, que contiene información histórica y diaria sobre la cotización de más de 6000 criptomonedas.\n"
   ]
  },
  {
   "cell_type": "markdown",
   "id": "2af2e586",
   "metadata": {},
   "source": [
    "## 8. Licencia. Seleccionar una de estas licencias para el dataset resultante y justificar el motivo de su selección:\n",
    "* Released Under CC0: Public Domain License.\n",
    "* Released Under CC BY-NC-SA 4.0 License.\n",
    "* Released Under CC BY-SA 4.0 License.\n",
    "* Database released under Open Database License, individual contents under Database Contents License.\n",
    "* Other (specified above).\n",
    "* **Unknown License.**"
   ]
  },
  {
   "cell_type": "markdown",
   "id": "b410ce81",
   "metadata": {},
   "source": [
    "## 9. Código. Adjuntar en el repositorio Git el código con el que se ha generado el dataset, preferiblemente en Python o, alternativamente, en R."
   ]
  },
  {
   "cell_type": "markdown",
   "id": "b297925c",
   "metadata": {},
   "source": [
    "## 10. Dataset. Publicar el dataset obtenido(*) en formato CSV en Zenodo con una breve descripción. Obtener y adjuntar el enlace del DOI."
   ]
  }
 ],
 "metadata": {
  "kernelspec": {
   "display_name": "Python 3",
   "language": "python",
   "name": "python3"
  },
  "language_info": {
   "codemirror_mode": {
    "name": "ipython",
    "version": 3
   },
   "file_extension": ".py",
   "mimetype": "text/x-python",
   "name": "python",
   "nbconvert_exporter": "python",
   "pygments_lexer": "ipython3",
   "version": "3.8.8"
  }
 },
 "nbformat": 4,
 "nbformat_minor": 5
}
