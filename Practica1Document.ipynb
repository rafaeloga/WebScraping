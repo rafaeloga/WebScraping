{
 "cells": [
  {
   "cell_type": "markdown",
   "id": "9230436a",
   "metadata": {},
   "source": [
    "# Práctica 1"
   ]
  },
  {
   "cell_type": "markdown",
   "id": "feff40f2",
   "metadata": {},
   "source": [
    "## 1. Contexto. Explicar en qué contexto se ha recolectado la información. Explicar por qué el sitio web elegido proporciona dicha información.\n",
    "El conjunto de datos generado en esta actividad recoge información diaria sobre precios y valores de capitalización de criptomonedas. Esta información se ha obtenido del sitio web [coinmarketcap.com](https://coinmarketcap.com/), que contiene información diaria sobre precios, valores de capitalización o volumen de criptactivos en circulación desde el año 2013 hasta la actualidad. Es un sitio mencionado por muchos usuarios, instituciones e incluso la prensa a la hora de hablar sobre criptoactivos."
   ]
  },
  {
   "cell_type": "markdown",
   "id": "d5e3ccd1",
   "metadata": {},
   "source": [
    "## 2. Título. Definir un título que sea descriptivo para el dataset.\n",
    "Criptomonedas como almacén de valor: Valores de cotización de criptomonedas"
   ]
  },
  {
   "cell_type": "markdown",
   "id": "f4aff8ce",
   "metadata": {},
   "source": [
    "## 3. Descripción del dataset. Desarrollar una descripción breve del conjunto de datos que se ha extraído. Es necesario que esta descripción tenga sentido con el título elegido.\n",
    "El dataset que aquí se presenta contiene información diaria sobre precios de criptomonedas, volumen de criptomonedas intercambiado durante la sesión y valor total de capitalización entre los días 22 de octubre de 2020 a *24 de octubre de 2021*. El dataset recoge información sobre más de 6000 criptomonedas, entre las que se incluyen las más conocidas como Bitcoin, Ethereum o Litecoin."
   ]
  },
  {
   "cell_type": "markdown",
   "id": "a5e78ccf",
   "metadata": {},
   "source": [
    "## 4. Representación gráfica. Dibujar un esquema o diagrama que identifique el dataset visualmente y el proyecto elegido.\n",
    "No entiendo la pregunta. ¿Podría poner un ejemplo?"
   ]
  },
  {
   "cell_type": "markdown",
   "id": "6e4025b5",
   "metadata": {},
   "source": [
    "## 5. Contenido. Explicar los campos que incluye el dataset, el periodo de tiempo de los datos y cómo se ha recogido.\n",
    "Cada registro del conjunto de datos representa el comportamiento de una criptomoneda en un día concreto, y cada criptomoneda tiene tantos registros como días se han recogido en el dataset, que por lo menos son los del último año.\n",
    "Para cada registro se recogen las siguientes características:\n",
    "- **symbol:** Código identificador de la criptomoneda\n",
    "- **date:** Fecha de la sesión\n",
    "- **open:** Precio de la criptomoneda en el momento de la apertura de la sesión diaria\n",
    "- **high:** Precio máximo alcanzado durante la sesión diaria\n",
    "- **low:** Precio mínimo alcanzado durante la sesión diaria\n",
    "- **close:** Precio de la criptomoneda en el momento de cierre de la sesión diaria\n",
    "- **volumen:** Volumen en dólares de las criptomonedas intercambiadas durante la sesión diaria\n",
    "- **marketcap:** Valor de capitalización del precio de la criptomoneda.\n",
    "\n",
    "**Período de tiempo que recogen los datos:** 22 de octubre de 2020 a 24 de octubre de 2021. *Duda: ¿Se refiere al período de tiempo que abarcan los datos, a lo que se ha tardado en recolectar?*\n",
    "\n",
    "**Método de recolección de los datos:** Los datos se han recolectado del sitio web coinmarketcap.com. Se han utilizado técnicas de Web Scraping y el lenguaje Python para extraer la información que estaba alojada en las páginas HTML.\n"
   ]
  },
  {
   "cell_type": "markdown",
   "id": "d22cb8f1",
   "metadata": {},
   "source": [
    "## 6. Agradecimientos. Presentar al propietario del conjunto de datos. Es necesario incluir citas de análisis anteriores o, en caso de no haberlas, justificar esta búsqueda con análisis similares. Justificar qué pasos se han seguido para actuar de acuerdo a los principios éticos y legales en el contexto del proyecto.\n",
    "Tal y como se ha comentado anteriormente, los datos se han obtenido del sitio web [coinmarketcap.com](https://coinmarketcap.com/).\n",
    "Duda: No acabo de entender lo que se pide con lo de citas de análisis anteriores. ¿Se refiere a citar estudios, noticias u otro material que haya utilizado datos recopilados del sitio web?"
   ]
  },
  {
   "cell_type": "markdown",
   "id": "651ceb8f",
   "metadata": {},
   "source": [
    "## 7. Inspiración. Explicar por qué es interesante este conjunto de datos y qué preguntas se pretenden responder. Es necesario comparar con los análisis anteriores presentados en el apartado 6.\n",
    "El Bitcoin se presentó como un instrumento de pagos electrónicos entre particulares que no necesitaba a un tercer agente de confianza (generalmente alguna institución financiera) que procesase y verificase dichos pagos ([Nakamoto, 2008](https://bitcoin.org/bitcoin.pdf)). Sin embargo, tal y como expuso el Nobel de Economía [Paul Krugman en 2013](https://krugman.blogs.nytimes.com/2013/12/28/bitcoin-is-evil/?ref=hackernoon.com), su éxito como moneda dependía tanto de ser aceptado como medio de cambio, como en ser considerado como un razonable “almacén de valor” ([store of value]((https://www.ledger.com/academy/what-is-a-store-of-value))).\n",
    "\n",
    "Aunque no ha tenido mucho éxito como medio de cambio a nivel nacional (la única jurisdicción que ha adoptado el Bitcoin como moneda de curso legal es El Salvador, el [7 de septiembre de 2021](https://www.bde.es/f/webbde/SES/Secciones/Publicaciones/InformesBoletinesRevistas/ArticulosAnaliticos/21/T4/Fich/be2104-art35.pdf)), el crecimiento de su valor y el de otras criptomonedas como Ethereum, XRP o Litecoin ha hecho que aparezcan muchos defensores de las criptomonedas como “almacenes de valor”. De la misma manera, su volatilidad ha sido utilizada por numerosos especialistas e instituciones como argumento en contra de la estabilidad de sus valores.\n",
    "\n",
    "Con este dataset se pueden investigar las variaciones de los precios de las criptomonedas para ver si pueden ser consideradas como “almacenes de valor”. Pero también puede ser muy útil para crear modelos de predicción del precio de las criptomonedas o la detección de patrones comunes en el comportamiento de los precios a lo largo del tiempo."
   ]
  },
  {
   "cell_type": "markdown",
   "id": "2af2e586",
   "metadata": {},
   "source": [
    "## 8. Licencia. Seleccionar una de estas licencias para el dataset resultante y justificar el motivo de su selección:\n",
    "* Released Under CC0: Public Domain License.\n",
    "* Released Under CC BY-NC-SA 4.0 License.\n",
    "* Released Under CC BY-SA 4.0 License.\n",
    "* Database released under Open Database License, individual contents under Database Contents License.\n",
    "* Other (specified above).\n",
    "* **Unknown License.**"
   ]
  },
  {
   "cell_type": "markdown",
   "id": "b410ce81",
   "metadata": {},
   "source": [
    "## 9. Código. Adjuntar en el repositorio Git el código con el que se ha generado el dataset, preferiblemente en Python o, alternativamente, en R."
   ]
  },
  {
   "cell_type": "markdown",
   "id": "b297925c",
   "metadata": {},
   "source": [
    "## 10. Dataset. Publicar el dataset obtenido(*) en formato CSV en Zenodo con una breve descripción. Obtener y adjuntar el enlace del DOI."
   ]
  }
 ],
 "metadata": {
  "kernelspec": {
   "display_name": "Python 3",
   "language": "python",
   "name": "python3"
  },
  "language_info": {
   "codemirror_mode": {
    "name": "ipython",
    "version": 3
   },
   "file_extension": ".py",
   "mimetype": "text/x-python",
   "name": "python",
   "nbconvert_exporter": "python",
   "pygments_lexer": "ipython3",
   "version": "3.8.8"
  }
 },
 "nbformat": 4,
 "nbformat_minor": 5
}
