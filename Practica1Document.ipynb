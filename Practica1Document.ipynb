{
 "cells": [
  {
   "cell_type": "markdown",
   "id": "9230436a",
   "metadata": {},
   "source": [
    "# Práctica 1"
   ]
  },
  {
   "cell_type": "markdown",
   "id": "feff40f2",
   "metadata": {},
   "source": [
    "## 1. Contexto. Explicar en qué contexto se ha recolectado la información. Explicar por qué el sitio web elegido proporciona dicha información.\n",
    "El conjunto de datos generado en esta actividad recoge información diaria sobre precios y valores de capitalización de criptomonedas. Esta información se ha obtenido del sitio web [coinmarketcap.com](https://coinmarketcap.com/), que contiene información diaria sobre precios, valores de capitalización o volumen de criptactivos en circulación desde abril de 2013 hasta la actualidad. Es un sitio mencionado por muchos usuarios, instituciones e incluso prensa a la hora de hablar sobre criptoactivos."
   ]
  },
  {
   "cell_type": "markdown",
   "id": "d5e3ccd1",
   "metadata": {},
   "source": [
    "## 2. Título. Definir un título que sea descriptivo para el dataset.\n",
    "Criptomonedas como almacén de valor. Valores de cotización de criptomonedas."
   ]
  },
  {
   "cell_type": "markdown",
   "id": "f4aff8ce",
   "metadata": {},
   "source": [
    "## 3. Descripción del dataset. Desarrollar una descripción breve del conjunto de datos que se ha extraído. Es necesario que esta descripción tenga sentido con el título elegido.\n",
    "El dataset que aquí se presenta contiene información diaria sobre precios de criptomonedas, volumen de criptomonedas intercambiado durante la sesión y valor total de capitalización entre los días 22 de octubre de 2020 a *24 de octubre de 2021*. El dataset recoge información sobre más de 6000 criptomonedas, entre las que se incluyen las más conocidas como Bitcoin, Ethereum o Litecoin."
   ]
  },
  {
   "cell_type": "markdown",
   "id": "a5e78ccf",
   "metadata": {},
   "source": [
    "## 4. Representación gráfica. Dibujar un esquema o diagrama que identifique el dataset visualmente y el proyecto elegido.\n",
    "\n",
    "No entiendo la pregunta. ¿Podría poner un ejemplo?"
   ]
  },
  {
   "cell_type": "markdown",
   "id": "6e4025b5",
   "metadata": {},
   "source": [
    "## 5. Contenido. Explicar los campos que incluye el dataset, el periodo de tiempo de los datos y cómo se ha recogido.\n",
    "Cada registro del conjunto de datos representa el comportamiento de una criptomoneda en un día concreto, y cada criptomoneda tiene tantos registros como días se han recogido en el dataset, que por lo menos son los del último año.\n",
    "\n",
    "Para cada registro se recogen las siguientes características:\n",
    "\n",
    "- **symbol:** Código identificador de la criptomoneda\n",
    "- **date:** Fecha de la sesión\n",
    "- **open:** precio de la criptomoneda en el momento de la apertura de la sesión diaria\n",
    "- **high:** precio máximo alcanzado durante la sesión diaria\n",
    "- **low:** precio mínimo alcanzado durante la sesión diaria\n",
    "- **close:** precio de la criptomoneda en el momento de cierre de la sesión diaria\n",
    "- **volumen:** Volumen en dólares de las criptomonedas intercambiadas durante la sesión diaria\n",
    "- **marketcap:** Valor de capitalización de la criptomoneda.\n",
    "\n",
    "**Período de tiempo que recogen los datos:** 22 de octubre de 2020 a *24 de octubre de 2021*. *Duda: ¿Se refiere al período de tiempo que abarcan los datos, a lo que se ha tardado en recolectar?* \n",
    "\n",
    "**Método de recolección de los datos:** Los datos se han recolectado del sitio web [coinmarketcap.com](https://coinmarketcap.com/). Se han utilizado técnicas de Web Scraping y el lenguaje Python para extraer la información que estaba alojada en las páginas HTML."
   ]
  },
  {
   "cell_type": "markdown",
   "id": "d22cb8f1",
   "metadata": {},
   "source": [
    "## 6. Agradecimientos. Presentar al propietario del conjunto de datos. Es necesario incluir citas de análisis anteriores o, en caso de no haberlas, justificar esta búsqueda con análisis similares. Justificar qué pasos se han seguido para actuar de acuerdo a los principios éticos y legales en el contexto del proyecto.\n",
    "Tal y como se ha comentado anteriormente, los datos se han extraído de la web [coinmarketcap.com](https://coinmarketcap.com/). La información contenida en esta web se ha utilizado para realizar numerosos proyectos de recolección de información de precios de criptomonenas, como por ejemplo [Cryptocurrency Historical Prices en kaggle.com](https://www.kaggle.com/sudalairajkumar/cryptocurrencypricehistory) o en [Cryptocurrency Price by Day/Hr (2013 - 2018) (w/Bitcoin) en data.world](https://data.world/chasewillden/cryptocurrency-price-by-date-2013-february-2018). También se ha utilizado para realizar análisis y estudios, por ejemplo sobre la evolución de precios de criptomonedas ([Lansky 2016](https://www.researchgate.net/publication/320269862_Analysis_of_Cryptocurrencies_Price_Development)) o para el desarrollo de modelos de predicción ([Cryptocurrency Predictions with ARIMA, kaggle](https://www.kaggle.com/taniaj/cryptocurrency-predictions-with-arima/notebook)).\n",
    "\n",
    "Para llevar a cabo la recolección de esos datos, se han tenido en cuenta los [términos de uso](https://coinmarketcap.com/terms/) publicados en [coinmarketcap.com](https://coinmarketcap.com/), y la información contenida en su fichero [robots.txt](https://coinmarketcap.com/robots.txt), que permite el webcrawling de la web excepto en ciertos directorios en los cuales no hemos accedido a la hora de recopilar los precios históricos de las criptomonedas."
   ]
  },
  {
   "cell_type": "markdown",
   "id": "651ceb8f",
   "metadata": {},
   "source": [
    "## 7. Inspiración. Explicar por qué es interesante este conjunto de datos y qué preguntas se pretenden responder. Es necesario comparar con los análisis anteriores presentados en el apartado 6.\n",
    "\n",
    "La primera criptomoneda, el Bitcoin, se presentó como un instrumento de pagos electrónicos entre particulares que no necesitaba a un tercer agente de confianza (generalmente alguna institución financiera) que procesase y verificase dichos pagos ([Nakamoto, 2008](https://bitcoin.org/bitcoin.pdf)). Sin embargo, tal y como expuso el Nobel de Economía [Paul Krugman en 2013](https://krugman.blogs.nytimes.com/2013/12/28/bitcoin-is-evil/?ref=hackernoon.com), su éxito como moneda dependía tanto de ser aceptado como medio de cambio, como en ser considerado como un “almacén de valor” razonable ([store of value]((https://www.ledger.com/academy/what-is-a-store-of-value))).\n",
    "\n",
    "Aunque el Bitcoin no ha tenido mucho éxito para ser aceptado como medio de cambio (la única jurisdicción que ha adoptado el Bitcoin como moneda de curso legal es El Salvador, el [7 de septiembre de 2021](https://www.bbc.com/mundo/noticias-america-latina-58441561)), el crecimiento continuado de su valor en el largo plazo ([Baur and Dimpfl, 2021](https://www.researchgate.net/publication/348243392_The_volatility_of_Bitcoin_and_its_role_as_a_medium_of_exchange_and_a_store_of_value)) y el de otras criptomonedas como [Ethereum](https://www.goldmansachs.com/insights/pages/crypto-a-new-asset-class-f/report.pdf) ha hecho que aparezcan muchos defensores de las criptomonedas como “almacenes de valor”. Esto también se ha visto reflejado en el comportamiento de bastantes inversores en criptomonedas, ya que tienen a mantener sus inversiones en ellas ([Auer and Tercero-Lucas, 2021](https://www.bis.org/publ/work951.pdf)). Sin embargo, la excesiva volatilidad de sus precios en el corto plazo, y en particular el del Bitcoin, hace que se considere que no puede funcionar como medio de cambio ni como unidad contable ([Baur and Dimpfl, 2021](https://www.researchgate.net/publication/348243392_The_volatility_of_Bitcoin_and_its_role_as_a_medium_of_exchange_and_a_store_of_value)).\n",
    "\n",
    "Con el dataset que aquí se ha creado se podrían responder las siguientes preguntaS:\n",
    "- ¿Cuánto ha variado el precio del Bitcoin en las últimas semanas, meses o años? ¿Y el del resto de criptomonedas?\n",
    "- ¿Hay patrones de comportamiento comunes y periódicos en los precios de las criptomonedas, como por ejemplo efectos estacionales?\n",
    "- ¿Cuál es la criptomoneda que ha presentado mayor estabilidad en su precio durante el último año?\n",
    "- ¿Cuál es la criptomoneda que ha presentado un mayor aumento en su precio durante los últimos meses?\n",
    "- ¿Qué Criptomonedas están son las que han presentado mayor volatilidad en sus precios durante las últimas semanas¿ Y los últimos meses?"
   ]
  },
  {
   "cell_type": "markdown",
   "id": "2af2e586",
   "metadata": {},
   "source": [
    "## 8. Licencia. Seleccionar una de estas licencias para el dataset resultante y justificar el motivo de su selección:\n",
    "* Released Under CC0: Public Domain License.\n",
    "* Released Under CC BY-NC-SA 4.0 License.\n",
    "* Released Under CC BY-SA 4.0 License.\n",
    "* Database released under Open Database License, individual contents under Database Contents License.\n",
    "* Other (specified above).\n",
    "* **Unknown License.**"
   ]
  },
  {
   "cell_type": "markdown",
   "id": "b410ce81",
   "metadata": {},
   "source": [
    "## 9. Código. Adjuntar en el repositorio Git el código con el que se ha generado el dataset, preferiblemente en Python o, alternativamente, en R."
   ]
  },
  {
   "cell_type": "markdown",
   "id": "b297925c",
   "metadata": {},
   "source": [
    "## 10. Dataset. Publicar el dataset obtenido(*) en formato CSV en Zenodo con una breve descripción. Obtener y adjuntar el enlace del DOI."
   ]
  },
  {
   "cell_type": "markdown",
   "id": "9b9e9629",
   "metadata": {},
   "source": [
    " Lansky, Jan. (2016). Analysis of Cryptocurrencies Price Development. Acta Informatica Pragensia. 5. 118-137. 10.18267/j.aip.89. "
   ]
  }
 ],
 "metadata": {
  "kernelspec": {
   "display_name": "Python 3",
   "language": "python",
   "name": "python3"
  },
  "language_info": {
   "codemirror_mode": {
    "name": "ipython",
    "version": 3
   },
   "file_extension": ".py",
   "mimetype": "text/x-python",
   "name": "python",
   "nbconvert_exporter": "python",
   "pygments_lexer": "ipython3",
   "version": "3.8.8"
  }
 },
 "nbformat": 4,
 "nbformat_minor": 5
}
